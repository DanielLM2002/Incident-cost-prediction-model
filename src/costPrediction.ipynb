{
 "cells": [
  {
   "cell_type": "code",
   "execution_count": 4,
   "metadata": {},
   "outputs": [
    {
     "name": "stdout",
     "output_type": "stream",
     "text": [
      "The dataset has the lenght of:  100\n"
     ]
    }
   ],
   "source": [
    "import numpy as np\n",
    "x = 2 * np.random.rand(100, 1)\n",
    "y = 4 + 3 * x + np.random.randn(100, 1)\n",
    "print(\"The dataset has the lenght of: \", len(x))"
   ]
  },
  {
   "cell_type": "code",
   "execution_count": 5,
   "metadata": {},
   "outputs": [],
   "source": [
    "import matplotlib.pyplot as plt\n",
    "%matplotlib inline"
   ]
  },
  {
   "cell_type": "code",
   "execution_count": 6,
   "metadata": {},
   "outputs": [
    {
     "data": {
      "image/png": "[encoded data removed]",
      "text/plain": [
       "<Figure size 432x288 with 1 Axes>"
      ]
     },
     "metadata": {
      "needs_background": "light"
     },
     "output_type": "display_data"
    }
   ],
   "source": [
    "plt.plot(x, y, 'b.')\n",
    "plt.xlabel('x')\n",
    "plt.ylabel('y')\n",
    "plt.title('Dataset')\n",
    "plt.show()"
   ]
  },
  {
   "cell_type": "code",
   "execution_count": 7,
   "metadata": {},
   "outputs": [],
   "source": [
    "import pandas as pd"
   ]
  },
  {
   "cell_type": "code",
   "execution_count": 8,
   "metadata": {},
   "outputs": [
    {
     "data": {
      "text/html": [
       "<div>\n",
       "<style scoped>\n",
       "    .dataframe tbody tr th:only-of-type {\n",
       "        vertical-align: middle;\n",
       "    }\n",
       "\n",
       "    .dataframe tbody tr th {\n",
       "        vertical-align: top;\n",
       "    }\n",
       "\n",
       "    .dataframe thead th {\n",
       "        text-align: right;\n",
       "    }\n",
       "</style>\n",
       "<table border=\"1\" class=\"dataframe\">\n",
       "  <thead>\n",
       "    <tr style=\"text-align: right;\">\n",
       "      <th></th>\n",
       "      <th>Amount_damaged_equipment</th>\n",
       "      <th>Cost</th>\n",
       "    </tr>\n",
       "  </thead>\n",
       "  <tbody>\n",
       "    <tr>\n",
       "      <th>0</th>\n",
       "      <td>1.964863</td>\n",
       "      <td>10.817617</td>\n",
       "    </tr>\n",
       "    <tr>\n",
       "      <th>1</th>\n",
       "      <td>1.570773</td>\n",
       "      <td>8.975605</td>\n",
       "    </tr>\n",
       "    <tr>\n",
       "      <th>2</th>\n",
       "      <td>1.608042</td>\n",
       "      <td>6.803835</td>\n",
       "    </tr>\n",
       "    <tr>\n",
       "      <th>3</th>\n",
       "      <td>0.785445</td>\n",
       "      <td>7.233940</td>\n",
       "    </tr>\n",
       "    <tr>\n",
       "      <th>4</th>\n",
       "      <td>1.253346</td>\n",
       "      <td>6.426330</td>\n",
       "    </tr>\n",
       "    <tr>\n",
       "      <th>5</th>\n",
       "      <td>1.406589</td>\n",
       "      <td>9.835342</td>\n",
       "    </tr>\n",
       "    <tr>\n",
       "      <th>6</th>\n",
       "      <td>1.001684</td>\n",
       "      <td>6.099352</td>\n",
       "    </tr>\n",
       "    <tr>\n",
       "      <th>7</th>\n",
       "      <td>0.088172</td>\n",
       "      <td>3.719378</td>\n",
       "    </tr>\n",
       "    <tr>\n",
       "      <th>8</th>\n",
       "      <td>0.897343</td>\n",
       "      <td>5.638587</td>\n",
       "    </tr>\n",
       "    <tr>\n",
       "      <th>9</th>\n",
       "      <td>0.894697</td>\n",
       "      <td>7.895176</td>\n",
       "    </tr>\n",
       "  </tbody>\n",
       "</table>\n",
       "</div>"
      ],
      "text/plain": [
       "   Amount_damaged_equipment       Cost\n",
       "0                  1.964863  10.817617\n",
       "1                  1.570773   8.975605\n",
       "2                  1.608042   6.803835\n",
       "3                  0.785445   7.233940\n",
       "4                  1.253346   6.426330\n",
       "5                  1.406589   9.835342\n",
       "6                  1.001684   6.099352\n",
       "7                  0.088172   3.719378\n",
       "8                  0.897343   5.638587\n",
       "9                  0.894697   7.895176"
      ]
     },
     "execution_count": 8,
     "metadata": {},
     "output_type": "execute_result"
    }
   ],
   "source": [
    "data = {\"Amount_damaged_equipment\": x.flatten(), \"Cost\": y.flatten()}\n",
    "df = pd.DataFrame(data)\n",
    "df.head(10)"
   ]
  },
  {
   "cell_type": "code",
   "execution_count": 9,
   "metadata": {},
   "outputs": [
    {
     "data": {
      "text/html": [
       "<div>\n",
       "<style scoped>\n",
       "    .dataframe tbody tr th:only-of-type {\n",
       "        vertical-align: middle;\n",
       "    }\n",
       "\n",
       "    .dataframe tbody tr th {\n",
       "        vertical-align: top;\n",
       "    }\n",
       "\n",
       "    .dataframe thead th {\n",
       "        text-align: right;\n",
       "    }\n",
       "</style>\n",
       "<table border=\"1\" class=\"dataframe\">\n",
       "  <thead>\n",
       "    <tr style=\"text-align: right;\">\n",
       "      <th></th>\n",
       "      <th>Amount_damaged_equipment</th>\n",
       "      <th>Cost</th>\n",
       "    </tr>\n",
       "  </thead>\n",
       "  <tbody>\n",
       "    <tr>\n",
       "      <th>0</th>\n",
       "      <td>1964</td>\n",
       "      <td>108176</td>\n",
       "    </tr>\n",
       "    <tr>\n",
       "      <th>1</th>\n",
       "      <td>1570</td>\n",
       "      <td>89756</td>\n",
       "    </tr>\n",
       "    <tr>\n",
       "      <th>2</th>\n",
       "      <td>1608</td>\n",
       "      <td>68038</td>\n",
       "    </tr>\n",
       "    <tr>\n",
       "      <th>3</th>\n",
       "      <td>785</td>\n",
       "      <td>72339</td>\n",
       "    </tr>\n",
       "    <tr>\n",
       "      <th>4</th>\n",
       "      <td>1253</td>\n",
       "      <td>64263</td>\n",
       "    </tr>\n",
       "    <tr>\n",
       "      <th>5</th>\n",
       "      <td>1406</td>\n",
       "      <td>98353</td>\n",
       "    </tr>\n",
       "    <tr>\n",
       "      <th>6</th>\n",
       "      <td>1001</td>\n",
       "      <td>60993</td>\n",
       "    </tr>\n",
       "    <tr>\n",
       "      <th>7</th>\n",
       "      <td>88</td>\n",
       "      <td>37193</td>\n",
       "    </tr>\n",
       "    <tr>\n",
       "      <th>8</th>\n",
       "      <td>897</td>\n",
       "      <td>56385</td>\n",
       "    </tr>\n",
       "    <tr>\n",
       "      <th>9</th>\n",
       "      <td>894</td>\n",
       "      <td>78951</td>\n",
       "    </tr>\n",
       "  </tbody>\n",
       "</table>\n",
       "</div>"
      ],
      "text/plain": [
       "   Amount_damaged_equipment    Cost\n",
       "0                      1964  108176\n",
       "1                      1570   89756\n",
       "2                      1608   68038\n",
       "3                       785   72339\n",
       "4                      1253   64263\n",
       "5                      1406   98353\n",
       "6                      1001   60993\n",
       "7                        88   37193\n",
       "8                       897   56385\n",
       "9                       894   78951"
      ]
     },
     "execution_count": 9,
     "metadata": {},
     "output_type": "execute_result"
    }
   ],
   "source": [
    "#Scalling up the data of affected equipment \n",
    "df[\"Amount_damaged_equipment\"] = df[\"Amount_damaged_equipment\"] * 1000\n",
    "df[\"Amount_damaged_equipment\"] = df[\"Amount_damaged_equipment\"].astype(int)\n",
    "#Scalling up the data of cost\n",
    "df[\"Cost\"] = df[\"Cost\"] * 10000\n",
    "df[\"Cost\"] = df[\"Cost\"].astype(int)\n",
    "df.head(10)\n"
   ]
  },
  {
   "cell_type": "code",
   "execution_count": 10,
   "metadata": {},
   "outputs": [
    {
     "data": {
      "image/png": "[encoded data removed]",
      "text/plain": [
       "<Figure size 432x288 with 1 Axes>"
      ]
     },
     "metadata": {
      "needs_background": "light"
     },
     "output_type": "display_data"
    }
   ],
   "source": [
    "plt.plot(df[\"Amount_damaged_equipment\"], df[\"Cost\"], 'b.')\n",
    "plt.xlabel('Amount_damaged_equipment')\n",
    "plt.ylabel('Cost')\n",
    "plt.title('Dataset')\n",
    "plt.show()"
   ]
  },
  {
   "cell_type": "code",
   "execution_count": 11,
   "metadata": {},
   "outputs": [
    {
     "data": {
      "text/plain": [
       "LinearRegression()"
      ]
     },
     "execution_count": 11,
     "metadata": {},
     "output_type": "execute_result"
    }
   ],
   "source": [
    "from sklearn.linear_model import LinearRegression\n",
    "lin_reg = LinearRegression()\n",
    "#Fitting the data to the model\n",
    "#Model gets the input and output parameters\n",
    "#Model predicts the output based on the input\n",
    "lin_reg.fit(df['Amount_damaged_equipment'].values.reshape(-1, 1), df['Cost'].values)"
   ]
  },
  {
   "cell_type": "code",
   "execution_count": 12,
   "metadata": {},
   "outputs": [
    {
     "name": "stdout",
     "output_type": "stream",
     "text": [
      "Theta 0:  38628.88672710563\n",
      "Theta 1:  [33.86723969]\n"
     ]
    }
   ],
   "source": [
    "#parameter of theta 0 and theta 1 respectivly\n",
    "print(\"Theta 0: \", lin_reg.intercept_)\n",
    "print(\"Theta 1: \", lin_reg.coef_)"
   ]
  },
  {
   "cell_type": "code",
   "execution_count": 13,
   "metadata": {},
   "outputs": [
    {
     "name": "stdout",
     "output_type": "stream",
     "text": [
      "The minimum value of the dataset:  5\n",
      "The maximum value of the dataset:  1964\n",
      "[   5 1964]\n"
     ]
    }
   ],
   "source": [
    "#prediction for the minimum and max value of the dataset of the amount of data during the training\n",
    "print(\"The minimum value of the dataset: \", df['Amount_damaged_equipment'].min())\n",
    "print(\"The maximum value of the dataset: \", df['Amount_damaged_equipment'].max())\n",
    "#fit those values into an array\n",
    "x_minimun_maximun = np.array([df['Amount_damaged_equipment'].min(), df['Amount_damaged_equipment'].max()])\n",
    "print(x_minimun_maximun)\n",
    "y_train_pred = lin_reg.predict(x_minimun_maximun.reshape(-1, 1))"
   ]
  },
  {
   "cell_type": "code",
   "execution_count": 14,
   "metadata": {},
   "outputs": [
    {
     "data": {
      "image/png": "[encoded data removed]",
      "text/plain": [
       "<Figure size 432x288 with 1 Axes>"
      ]
     },
     "metadata": {
      "needs_background": "light"
     },
     "output_type": "display_data"
    }
   ],
   "source": [
    "plt.plot(x_minimun_maximun, y_train_pred, 'r--')\n",
    "plt.plot(df['Amount_damaged_equipment'], df['Cost'], 'b.')\n",
    "plt.xlabel('Amount_damaged_equipment')\n",
    "plt.ylabel('Cost')\n",
    "plt.title('Dataset')\n",
    "plt.show()\n",
    "#prediction for the minimum and max value of the dataset of the amount of data during the training\n",
    "#red line is the prediction of the model\n",
    "#blue dots are the actual data"
   ]
  },
  {
   "cell_type": "code",
   "execution_count": 15,
   "metadata": {},
   "outputs": [
    {
     "name": "stdout",
     "output_type": "stream",
     "text": [
      "The cost of the equipment is:  79269 $\n"
     ]
    }
   ],
   "source": [
    "x_new = np.array([[1200]])\n",
    "#prediction of the cost of the equipment\n",
    "damage_cost = lin_reg.predict(x_new)\n",
    "#print(\"The cost of the equipment is: \", damage_cost, \"$\")\n",
    "#print(\"The cost of the equipment is: \", int(damage_cost)[0], \"$\")\n",
    "print(\"The cost of the equipment is: \", int(damage_cost), \"$\")\n"
   ]
  },
  {
   "cell_type": "code",
   "execution_count": 22,
   "metadata": {},
   "outputs": [
    {
     "data": {
      "image/png": "[encoded data removed]",
      "text/plain": [
       "<Figure size 432x288 with 1 Axes>"
      ]
     },
     "metadata": {
      "needs_background": "light"
     },
     "output_type": "display_data"
    }
   ],
   "source": [
    "plt.plot(df[\"Amount_damaged_equipment\"], df[\"Cost\"], 'b.')\n",
    "plt.plot(x_minimun_maximun, y_train_pred, 'g--')\n",
    "plt.plot(x_new, damage_cost, 'rx')\n",
    "plt.xlabel('Amount_damaged_equipment')\n",
    "plt.ylabel('Cost')\n",
    "plt.title('Dataset')\n",
    "plt.show()"
   ]
  }
 ],
 "metadata": {
  "kernelspec": {
   "display_name": "Python 3.9.12 ('base')",
   "language": "python",
   "name": "python3"
  },
  "language_info": {
   "codemirror_mode": {
    "name": "ipython",
    "version": 3
   },
   "file_extension": ".py",
   "mimetype": "text/x-python",
   "name": "python",
   "nbconvert_exporter": "python",
   "pygments_lexer": "ipython3",
   "version": "3.9.12"
  },
  "orig_nbformat": 4,
  "vscode": {
   "interpreter": {
    "hash": "82000d558d3da16de861385561023fedb68833d99dde52beff8f80bac869ca8c"
   }
  }
 },
 "nbformat": 4,
 "nbformat_minor": 2
}
