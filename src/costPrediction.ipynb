{
 "cells": [
  {
   "cell_type": "code",
   "execution_count": 56,
   "metadata": {},
   "outputs": [
    {
     "name": "stdout",
     "output_type": "stream",
     "text": [
      "The dataset has the lenght of:  100\n"
     ]
    }
   ],
   "source": [
    "import numpy as np\n",
    "x = 2 * np.random.rand(100, 1)\n",
    "y = 4 + 3 * x + np.random.randn(100, 1)\n",
    "print(\"The dataset has the lenght of: \", len(x))"
   ]
  },
  {
   "cell_type": "code",
   "execution_count": 57,
   "metadata": {},
   "outputs": [],
   "source": [
    "import matplotlib.pyplot as plt\n",
    "%matplotlib inline"
   ]
  },
  {
   "cell_type": "code",
   "execution_count": 58,
   "metadata": {},
   "outputs": [
    {
     "data": {
      "image/png": "[encoded data removed]",
      "text/plain": [
       "<Figure size 432x288 with 1 Axes>"
      ]
     },
     "metadata": {
      "needs_background": "light"
     },
     "output_type": "display_data"
    }
   ],
   "source": [
    "plt.plot(x, y, 'b.')\n",
    "plt.xlabel('x')\n",
    "plt.ylabel('y')\n",
    "plt.title('Dataset')\n",
    "plt.show()"
   ]
  },
  {
   "cell_type": "code",
   "execution_count": 59,
   "metadata": {},
   "outputs": [],
   "source": [
    "import pandas as pd"
   ]
  },
  {
   "cell_type": "code",
   "execution_count": 60,
   "metadata": {},
   "outputs": [
    {
     "data": {
      "text/html": [
       "<div>\n",
       "<style scoped>\n",
       "    .dataframe tbody tr th:only-of-type {\n",
       "        vertical-align: middle;\n",
       "    }\n",
       "\n",
       "    .dataframe tbody tr th {\n",
       "        vertical-align: top;\n",
       "    }\n",
       "\n",
       "    .dataframe thead th {\n",
       "        text-align: right;\n",
       "    }\n",
       "</style>\n",
       "<table border=\"1\" class=\"dataframe\">\n",
       "  <thead>\n",
       "    <tr style=\"text-align: right;\">\n",
       "      <th></th>\n",
       "      <th>Amount_damaged_equipment</th>\n",
       "      <th>Cost</th>\n",
       "    </tr>\n",
       "  </thead>\n",
       "  <tbody>\n",
       "    <tr>\n",
       "      <th>0</th>\n",
       "      <td>0.205798</td>\n",
       "      <td>5.774085</td>\n",
       "    </tr>\n",
       "    <tr>\n",
       "      <th>1</th>\n",
       "      <td>1.392168</td>\n",
       "      <td>8.236052</td>\n",
       "    </tr>\n",
       "    <tr>\n",
       "      <th>2</th>\n",
       "      <td>0.606666</td>\n",
       "      <td>4.805987</td>\n",
       "    </tr>\n",
       "    <tr>\n",
       "      <th>3</th>\n",
       "      <td>1.012696</td>\n",
       "      <td>5.833270</td>\n",
       "    </tr>\n",
       "    <tr>\n",
       "      <th>4</th>\n",
       "      <td>1.794797</td>\n",
       "      <td>11.157773</td>\n",
       "    </tr>\n",
       "    <tr>\n",
       "      <th>5</th>\n",
       "      <td>1.256443</td>\n",
       "      <td>7.887055</td>\n",
       "    </tr>\n",
       "    <tr>\n",
       "      <th>6</th>\n",
       "      <td>1.564794</td>\n",
       "      <td>10.198105</td>\n",
       "    </tr>\n",
       "    <tr>\n",
       "      <th>7</th>\n",
       "      <td>1.569108</td>\n",
       "      <td>7.926413</td>\n",
       "    </tr>\n",
       "    <tr>\n",
       "      <th>8</th>\n",
       "      <td>0.576507</td>\n",
       "      <td>4.973070</td>\n",
       "    </tr>\n",
       "    <tr>\n",
       "      <th>9</th>\n",
       "      <td>1.877365</td>\n",
       "      <td>8.436702</td>\n",
       "    </tr>\n",
       "  </tbody>\n",
       "</table>\n",
       "</div>"
      ],
      "text/plain": [
       "   Amount_damaged_equipment       Cost\n",
       "0                  0.205798   5.774085\n",
       "1                  1.392168   8.236052\n",
       "2                  0.606666   4.805987\n",
       "3                  1.012696   5.833270\n",
       "4                  1.794797  11.157773\n",
       "5                  1.256443   7.887055\n",
       "6                  1.564794  10.198105\n",
       "7                  1.569108   7.926413\n",
       "8                  0.576507   4.973070\n",
       "9                  1.877365   8.436702"
      ]
     },
     "execution_count": 60,
     "metadata": {},
     "output_type": "execute_result"
    }
   ],
   "source": [
    "data = {\"Amount_damaged_equipment\": x.flatten(), \"Cost\": y.flatten()}\n",
    "df = pd.DataFrame(data)\n",
    "df.head(10)"
   ]
  },
  {
   "cell_type": "code",
   "execution_count": 61,
   "metadata": {},
   "outputs": [
    {
     "data": {
      "text/html": [
       "<div>\n",
       "<style scoped>\n",
       "    .dataframe tbody tr th:only-of-type {\n",
       "        vertical-align: middle;\n",
       "    }\n",
       "\n",
       "    .dataframe tbody tr th {\n",
       "        vertical-align: top;\n",
       "    }\n",
       "\n",
       "    .dataframe thead th {\n",
       "        text-align: right;\n",
       "    }\n",
       "</style>\n",
       "<table border=\"1\" class=\"dataframe\">\n",
       "  <thead>\n",
       "    <tr style=\"text-align: right;\">\n",
       "      <th></th>\n",
       "      <th>Amount_damaged_equipment</th>\n",
       "      <th>Cost</th>\n",
       "    </tr>\n",
       "  </thead>\n",
       "  <tbody>\n",
       "    <tr>\n",
       "      <th>0</th>\n",
       "      <td>205</td>\n",
       "      <td>57740</td>\n",
       "    </tr>\n",
       "    <tr>\n",
       "      <th>1</th>\n",
       "      <td>1392</td>\n",
       "      <td>82360</td>\n",
       "    </tr>\n",
       "    <tr>\n",
       "      <th>2</th>\n",
       "      <td>606</td>\n",
       "      <td>48059</td>\n",
       "    </tr>\n",
       "    <tr>\n",
       "      <th>3</th>\n",
       "      <td>1012</td>\n",
       "      <td>58332</td>\n",
       "    </tr>\n",
       "    <tr>\n",
       "      <th>4</th>\n",
       "      <td>1794</td>\n",
       "      <td>111577</td>\n",
       "    </tr>\n",
       "    <tr>\n",
       "      <th>5</th>\n",
       "      <td>1256</td>\n",
       "      <td>78870</td>\n",
       "    </tr>\n",
       "    <tr>\n",
       "      <th>6</th>\n",
       "      <td>1564</td>\n",
       "      <td>101981</td>\n",
       "    </tr>\n",
       "    <tr>\n",
       "      <th>7</th>\n",
       "      <td>1569</td>\n",
       "      <td>79264</td>\n",
       "    </tr>\n",
       "    <tr>\n",
       "      <th>8</th>\n",
       "      <td>576</td>\n",
       "      <td>49730</td>\n",
       "    </tr>\n",
       "    <tr>\n",
       "      <th>9</th>\n",
       "      <td>1877</td>\n",
       "      <td>84367</td>\n",
       "    </tr>\n",
       "  </tbody>\n",
       "</table>\n",
       "</div>"
      ],
      "text/plain": [
       "   Amount_damaged_equipment    Cost\n",
       "0                       205   57740\n",
       "1                      1392   82360\n",
       "2                       606   48059\n",
       "3                      1012   58332\n",
       "4                      1794  111577\n",
       "5                      1256   78870\n",
       "6                      1564  101981\n",
       "7                      1569   79264\n",
       "8                       576   49730\n",
       "9                      1877   84367"
      ]
     },
     "execution_count": 61,
     "metadata": {},
     "output_type": "execute_result"
    }
   ],
   "source": [
    "#Scalling up the data of affected equipment \n",
    "df[\"Amount_damaged_equipment\"] = df[\"Amount_damaged_equipment\"] * 1000\n",
    "df[\"Amount_damaged_equipment\"] = df[\"Amount_damaged_equipment\"].astype(int)\n",
    "#Scalling up the data of cost\n",
    "df[\"Cost\"] = df[\"Cost\"] * 10000\n",
    "df[\"Cost\"] = df[\"Cost\"].astype(int)\n",
    "df.head(10)\n"
   ]
  },
  {
   "cell_type": "code",
   "execution_count": 62,
   "metadata": {},
   "outputs": [
    {
     "data": {
      "image/png": "[encoded data removed]",
      "text/plain": [
       "<Figure size 432x288 with 1 Axes>"
      ]
     },
     "metadata": {
      "needs_background": "light"
     },
     "output_type": "display_data"
    }
   ],
   "source": [
    "plt.plot(df[\"Amount_damaged_equipment\"], df[\"Cost\"], 'b.')\n",
    "plt.xlabel('Amount_damaged_equipment')\n",
    "plt.ylabel('Cost')\n",
    "plt.title('Dataset')\n",
    "plt.show()"
   ]
  },
  {
   "cell_type": "code",
   "execution_count": 63,
   "metadata": {},
   "outputs": [
    {
     "data": {
      "text/plain": [
       "LinearRegression()"
      ]
     },
     "execution_count": 63,
     "metadata": {},
     "output_type": "execute_result"
    }
   ],
   "source": [
    "from sklearn.linear_model import LinearRegression\n",
    "lin_reg = LinearRegression()\n",
    "#Fitting the data to the model\n",
    "#Model gets the input and output parameters\n",
    "#Model predicts the output based on the input\n",
    "lin_reg.fit(df['Amount_damaged_equipment'].values.reshape(-1, 1), df['Cost'].values)"
   ]
  },
  {
   "cell_type": "code",
   "execution_count": 64,
   "metadata": {},
   "outputs": [
    {
     "name": "stdout",
     "output_type": "stream",
     "text": [
      "Theta 0:  42267.61065507125\n",
      "Theta 1:  [26.83544208]\n"
     ]
    }
   ],
   "source": [
    "#parameter of theta 0 and theta 1 respectivly\n",
    "print(\"Theta 0: \", lin_reg.intercept_)\n",
    "print(\"Theta 1: \", lin_reg.coef_)"
   ]
  },
  {
   "cell_type": "code",
   "execution_count": 65,
   "metadata": {},
   "outputs": [
    {
     "name": "stdout",
     "output_type": "stream",
     "text": [
      "The minimum value of the dataset:  12\n",
      "The maximum value of the dataset:  1940\n",
      "[  12 1940]\n"
     ]
    }
   ],
   "source": [
    "#prediction for the minimum and max value of the dataset of the amount of data during the training\n",
    "print(\"The minimum value of the dataset: \", df['Amount_damaged_equipment'].min())\n",
    "print(\"The maximum value of the dataset: \", df['Amount_damaged_equipment'].max())\n",
    "#fit those values into an array\n",
    "x_minimun_maximun = np.array([df['Amount_damaged_equipment'].min(), df['Amount_damaged_equipment'].max()])\n",
    "print(x_minimun_maximun)\n",
    "y_train_pred = lin_reg.predict(x_minimun_maximun.reshape(-1, 1))"
   ]
  },
  {
   "cell_type": "code",
   "execution_count": 66,
   "metadata": {},
   "outputs": [
    {
     "data": {
      "image/png": "[encoded data removed]",
      "text/plain": [
       "<Figure size 432x288 with 1 Axes>"
      ]
     },
     "metadata": {
      "needs_background": "light"
     },
     "output_type": "display_data"
    }
   ],
   "source": [
    "plt.plot(x_minimun_maximun, y_train_pred, 'r--')\n",
    "plt.plot(df['Amount_damaged_equipment'], df['Cost'], 'b.')\n",
    "plt.xlabel('Amount_damaged_equipment')\n",
    "plt.ylabel('Cost')\n",
    "plt.title('Dataset')\n",
    "plt.show()\n",
    "#prediction for the minimum and max value of the dataset of the amount of data during the training\n",
    "#red line is the prediction of the model\n",
    "#blue dots are the actual data"
   ]
  },
  {
   "cell_type": "code",
   "execution_count": 67,
   "metadata": {},
   "outputs": [
    {
     "name": "stdout",
     "output_type": "stream",
     "text": [
      "The cost of the equipment is:  74470 $\n"
     ]
    }
   ],
   "source": [
    "x_new = np.array([[1200]])\n",
    "#prediction of the cost of the equipment\n",
    "damage_cost = lin_reg.predict(x_new)\n",
    "#print(\"The cost of the equipment is: \", damage_cost, \"$\")\n",
    "#print(\"The cost of the equipment is: \", int(damage_cost)[0], \"$\")\n",
    "print(\"The cost of the equipment is: \", int(damage_cost), \"$\")\n"
   ]
  },
  {
   "cell_type": "code",
   "execution_count": 68,
   "metadata": {},
   "outputs": [
    {
     "data": {
      "image/png": "[encoded data removed]",
      "text/plain": [
       "<Figure size 432x288 with 1 Axes>"
      ]
     },
     "metadata": {
      "needs_background": "light"
     },
     "output_type": "display_data"
    }
   ],
   "source": [
    "plt.plot(df[\"Amount_damaged_equipment\"], df[\"Cost\"], 'b.')\n",
    "plt.plot(x_minimun_maximun, y_train_pred, 'g--')\n",
    "plt.plot(x_new, damage_cost, 'rx')\n",
    "plt.xlabel('Amount_damaged_equipment')\n",
    "plt.ylabel('Cost')\n",
    "plt.title('Dataset')\n",
    "plt.show()"
   ]
  },
  {
   "cell_type": "code",
   "execution_count": 92,
   "metadata": {},
   "outputs": [
    {
     "data": {
      "image/png": "[encoded data removed]",
      "text/plain": [
       "<Figure size 432x288 with 1 Axes>"
      ]
     },
     "metadata": {
      "needs_background": "light"
     },
     "output_type": "display_data"
    }
   ],
   "source": [
    "#extra case\n",
    "x_new2 = np.array([[1427]])\n",
    "#prediction of the cost of the equipment\n",
    "prediction2 = lin_reg.predict(x_new2)\n",
    "plt.plot(df[\"Amount_damaged_equipment\"], df[\"Cost\"], 'b.')\n",
    "plt.plot(x_minimun_maximun, y_train_pred, 'g--')\n",
    "plt.plot(x_new, damage_cost, 'rx')\n",
    "plt.plot(x_new2, prediction2, 'r^')\n",
    "plt.xlabel('Amount_damaged_equipment')\n",
    "plt.ylabel('Cost')\n",
    "plt.title('Dataset')\n",
    "plt.show()"
   ]
  },
  {
   "cell_type": "code",
   "execution_count": 95,
   "metadata": {},
   "outputs": [
    {
     "data": {
      "image/png": "[encoded data removed]",
      "text/plain": [
       "<Figure size 432x288 with 1 Axes>"
      ]
     },
     "metadata": {
      "needs_background": "light"
     },
     "output_type": "display_data"
    }
   ],
   "source": [
    "x_new3 = np.array([[1223]])\n",
    "prediction3 = lin_reg.predict(x_new3)\n",
    "plt.plot(x_new3, prediction3, 'r^')\n",
    "plt.plot(df[\"Amount_damaged_equipment\"], df[\"Cost\"], 'b.')\n",
    "plt.plot(x_minimun_maximun, y_train_pred, 'g--')\n",
    "plt.xlabel('Amount_damaged_equipment')\n",
    "plt.ylabel('Cost')\n",
    "plt.title('Dataset')\n",
    "plt.show()"
   ]
  }
 ],
 "metadata": {
  "kernelspec": {
   "display_name": "Python 3.9.12 ('base')",
   "language": "python",
   "name": "python3"
  },
  "language_info": {
   "codemirror_mode": {
    "name": "ipython",
    "version": 3
   },
   "file_extension": ".py",
   "mimetype": "text/x-python",
   "name": "python",
   "nbconvert_exporter": "python",
   "pygments_lexer": "ipython3",
   "version": "3.9.12"
  },
  "orig_nbformat": 4,
  "vscode": {
   "interpreter": {
    "hash": "82000d558d3da16de861385561023fedb68833d99dde52beff8f80bac869ca8c"
   }
  }
 },
 "nbformat": 4,
 "nbformat_minor": 2
}
